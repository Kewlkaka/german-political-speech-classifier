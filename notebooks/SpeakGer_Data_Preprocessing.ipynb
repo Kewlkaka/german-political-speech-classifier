{
  "nbformat": 4,
  "nbformat_minor": 0,
  "metadata": {
    "colab": {
      "provenance": [],
      "machine_shape": "hm",
      "gpuType": "A100"
    },
    "kernelspec": {
      "name": "python3",
      "display_name": "Python 3"
    },
    "language_info": {
      "name": "python"
    },
    "accelerator": "GPU"
  },
  "cells": [
    {
      "cell_type": "code",
      "execution_count": null,
      "metadata": {
        "id": "xtZ0ToGBMfg9"
      },
      "outputs": [],
      "source": [
        "import pandas as pd\n",
        "import csv"
      ]
    },
    {
      "cell_type": "code",
      "source": [
        "all_mps_mapping = pd.read_csv('all_mps_mapping.csv', encoding='utf-8')\n",
        "print(all_mps_mapping['State'].unique())"
      ],
      "metadata": {
        "colab": {
          "base_uri": "https://localhost:8080/"
        },
        "id": "8M5BWk2Qw2Uy",
        "outputId": "66a34a95-2829-4d85-edf4-8b9a56192dc2"
      },
      "execution_count": null,
      "outputs": [
        {
          "output_type": "stream",
          "name": "stdout",
          "text": [
            "['Baden-Württemberg' 'Bayern' nan 'Berlin' 'Brandenburg' 'Bremen'\n",
            " 'Hamburg' 'Hessen' 'Mecklenburg-Vorpommern' 'Niedersachsen'\n",
            " 'Nordrhein-Westfalen' 'Rheinland-Pfalz' 'Saarland' 'Sachsen'\n",
            " 'Sachsen-Anhalt' 'Schleswig-Holstein' 'Thüringen' 'Bundestag']\n"
          ]
        }
      ]
    },
    {
      "cell_type": "code",
      "source": [
        "all_mps_mapping.info()"
      ],
      "metadata": {
        "colab": {
          "base_uri": "https://localhost:8080/"
        },
        "id": "YX75BAkry3CQ",
        "outputId": "6c400e43-8bb2-43a8-e31b-5becf8cb8410"
      },
      "execution_count": null,
      "outputs": [
        {
          "output_type": "stream",
          "name": "stdout",
          "text": [
            "<class 'pandas.core.frame.DataFrame'>\n",
            "RangeIndex: 45247 entries, 0 to 45246\n",
            "Data columns (total 6 columns):\n",
            " #   Column                 Non-Null Count  Dtype  \n",
            "---  ------                 --------------  -----  \n",
            " 0   MPID                   45247 non-null  object \n",
            " 1   State                  43940 non-null  object \n",
            " 2   Period                 43940 non-null  float64\n",
            " 3   Party                  43940 non-null  object \n",
            " 4   Constituency           30083 non-null  object \n",
            " 5   Political Orientation  43940 non-null  object \n",
            "dtypes: float64(1), object(5)\n",
            "memory usage: 2.1+ MB\n"
          ]
        }
      ]
    },
    {
      "cell_type": "code",
      "source": [
        "Bundestag = pd.read_csv('Bundestag.csv', encoding='utf-8', delimiter=',', on_bad_lines='skip', engine='python')\n",
        "Bundestag.info()"
      ],
      "metadata": {
        "colab": {
          "base_uri": "https://localhost:8080/"
        },
        "id": "2OUu32CZxFdP",
        "outputId": "b5d84562-c2b9-4963-8747-4fcd7d78cd23"
      },
      "execution_count": null,
      "outputs": [
        {
          "output_type": "stream",
          "name": "stdout",
          "text": [
            "<class 'pandas.core.frame.DataFrame'>\n",
            "RangeIndex: 306019 entries, 0 to 306018\n",
            "Data columns (total 9 columns):\n",
            " #   Column        Non-Null Count   Dtype \n",
            "---  ------        --------------   ----- \n",
            " 0   Period        306019 non-null  int64 \n",
            " 1   Session       306019 non-null  int64 \n",
            " 2   Date          306019 non-null  object\n",
            " 3   Chair         306019 non-null  bool  \n",
            " 4   Interjection  306019 non-null  bool  \n",
            " 5   MPID          306019 non-null  int64 \n",
            " 6   Party         306019 non-null  object\n",
            " 7   Constituency  121011 non-null  object\n",
            " 8   Speech        306019 non-null  object\n",
            "dtypes: bool(2), int64(3), object(4)\n",
            "memory usage: 16.9+ MB\n"
          ]
        }
      ]
    },
    {
      "cell_type": "code",
      "source": [
        "Berlin = pd.read_csv('Berlin.csv', encoding='utf-8', delimiter=',', on_bad_lines='skip', engine='python')\n",
        "Berlin.info()"
      ],
      "metadata": {
        "colab": {
          "base_uri": "https://localhost:8080/"
        },
        "id": "iR0Rtu6fxvQC",
        "outputId": "0f72f047-d347-44a5-bd87-d047637332f3"
      },
      "execution_count": null,
      "outputs": [
        {
          "output_type": "stream",
          "name": "stdout",
          "text": [
            "<class 'pandas.core.frame.DataFrame'>\n",
            "RangeIndex: 194677 entries, 0 to 194676\n",
            "Data columns (total 9 columns):\n",
            " #   Column        Non-Null Count   Dtype \n",
            "---  ------        --------------   ----- \n",
            " 0   Period        194677 non-null  int64 \n",
            " 1   Session       194677 non-null  int64 \n",
            " 2   Date          194677 non-null  object\n",
            " 3   Chair         194677 non-null  bool  \n",
            " 4   Interjection  194677 non-null  bool  \n",
            " 5   MPID          194677 non-null  int64 \n",
            " 6   Party         194677 non-null  object\n",
            " 7   Constituency  29390 non-null   object\n",
            " 8   Speech        194677 non-null  object\n",
            "dtypes: bool(2), int64(3), object(4)\n",
            "memory usage: 10.8+ MB\n"
          ]
        }
      ]
    },
    {
      "cell_type": "code",
      "source": [
        "Bayern = pd.read_csv('Bayern.csv', encoding='utf-8', delimiter=',', on_bad_lines='skip', engine='python')\n",
        "Bayern.info()"
      ],
      "metadata": {
        "colab": {
          "base_uri": "https://localhost:8080/"
        },
        "id": "4WbOWg_9x_Ok",
        "outputId": "3f575dc5-6c7c-4258-a9da-8f95a1ca692e"
      },
      "execution_count": null,
      "outputs": [
        {
          "output_type": "stream",
          "name": "stdout",
          "text": [
            "<class 'pandas.core.frame.DataFrame'>\n",
            "RangeIndex: 220775 entries, 0 to 220774\n",
            "Data columns (total 9 columns):\n",
            " #   Column        Non-Null Count   Dtype \n",
            "---  ------        --------------   ----- \n",
            " 0   Period        220775 non-null  int64 \n",
            " 1   Session       220775 non-null  int64 \n",
            " 2   Date          220775 non-null  object\n",
            " 3   Chair         220775 non-null  bool  \n",
            " 4   Interjection  220775 non-null  bool  \n",
            " 5   MPID          220775 non-null  int64 \n",
            " 6   Party         220775 non-null  object\n",
            " 7   Constituency  159862 non-null  object\n",
            " 8   Speech        220775 non-null  object\n",
            "dtypes: bool(2), int64(3), object(4)\n",
            "memory usage: 12.2+ MB\n"
          ]
        }
      ]
    },
    {
      "cell_type": "code",
      "source": [
        "NordrheinWestfalen = pd.read_csv('Nordrhein-Westfalen.csv', encoding='utf-8', delimiter=',', on_bad_lines='skip', engine='python')\n",
        "NordrheinWestfalen.info()"
      ],
      "metadata": {
        "colab": {
          "base_uri": "https://localhost:8080/"
        },
        "id": "yuVebt1XyjB4",
        "outputId": "2ff2ec0c-2a42-4897-8463-c8e674eff85e"
      },
      "execution_count": null,
      "outputs": [
        {
          "output_type": "stream",
          "name": "stdout",
          "text": [
            "<class 'pandas.core.frame.DataFrame'>\n",
            "RangeIndex: 306836 entries, 0 to 306835\n",
            "Data columns (total 9 columns):\n",
            " #   Column        Non-Null Count   Dtype \n",
            "---  ------        --------------   ----- \n",
            " 0   Period        306836 non-null  int64 \n",
            " 1   Session       306836 non-null  int64 \n",
            " 2   Date          306836 non-null  object\n",
            " 3   Chair         306836 non-null  bool  \n",
            " 4   Interjection  306836 non-null  bool  \n",
            " 5   MPID          306836 non-null  int64 \n",
            " 6   Party         306836 non-null  object\n",
            " 7   Constituency  182454 non-null  object\n",
            " 8   Speech        306836 non-null  object\n",
            "dtypes: bool(2), int64(3), object(4)\n",
            "memory usage: 17.0+ MB\n"
          ]
        }
      ]
    },
    {
      "cell_type": "code",
      "source": [
        "columns_to_keep = ['MPID', 'Party', 'Date', 'Speech']\n",
        "\n",
        "Bundestag = Bundestag[columns_to_keep]\n",
        "Berlin = Berlin[columns_to_keep]\n",
        "Bayern = Bayern[columns_to_keep]\n",
        "NordrheinWestfalen = NordrheinWestfalen[columns_to_keep]"
      ],
      "metadata": {
        "id": "oiiXeqLs0egH"
      },
      "execution_count": null,
      "outputs": []
    },
    {
      "cell_type": "code",
      "source": [
        "speeches_df = pd.concat([Bundestag, Berlin, Bayern, NordrheinWestfalen], ignore_index=True)"
      ],
      "metadata": {
        "id": "hphFlIAO0iuo"
      },
      "execution_count": null,
      "outputs": []
    },
    {
      "cell_type": "code",
      "source": [
        "speeches_df['MPID'] = speeches_df['MPID'].astype(str)\n",
        "all_mps_mapping['MPID'] = all_mps_mapping['MPID'].astype(str)"
      ],
      "metadata": {
        "id": "E-yll5D90rYD"
      },
      "execution_count": null,
      "outputs": []
    },
    {
      "cell_type": "code",
      "source": [
        "# Here I am Merging with all_mps_mapping to include Political Orientation\n",
        "final_df = pd.merge(speeches_df, all_mps_mapping[['MPID', 'Political Orientation']], on='MPID', how='left')"
      ],
      "metadata": {
        "id": "EOjcN5G-0uJ_"
      },
      "execution_count": null,
      "outputs": []
    },
    {
      "cell_type": "code",
      "source": [
        "final_df = final_df.dropna(subset=['Speech', 'Political Orientation'])"
      ],
      "metadata": {
        "id": "lq0l16_S0y0p"
      },
      "execution_count": null,
      "outputs": []
    },
    {
      "cell_type": "code",
      "source": [
        "final_df = final_df.reset_index(drop=True)"
      ],
      "metadata": {
        "id": "HJ-Ml2jNZRD7"
      },
      "execution_count": null,
      "outputs": []
    },
    {
      "cell_type": "code",
      "source": [
        "final_df.info()"
      ],
      "metadata": {
        "colab": {
          "base_uri": "https://localhost:8080/"
        },
        "id": "lgtvO8PB07bA",
        "outputId": "c4d507a6-9956-477f-a63f-d5f6d9f14276"
      },
      "execution_count": null,
      "outputs": [
        {
          "output_type": "stream",
          "name": "stdout",
          "text": [
            "<class 'pandas.core.frame.DataFrame'>\n",
            "RangeIndex: 2059301 entries, 0 to 2059300\n",
            "Data columns (total 5 columns):\n",
            " #   Column                 Dtype \n",
            "---  ------                 ----- \n",
            " 0   MPID                   object\n",
            " 1   Party                  object\n",
            " 2   Date                   object\n",
            " 3   Speech                 object\n",
            " 4   Political Orientation  object\n",
            "dtypes: object(5)\n",
            "memory usage: 78.6+ MB\n"
          ]
        }
      ]
    },
    {
      "cell_type": "code",
      "source": [
        "print(final_df.head())"
      ],
      "metadata": {
        "colab": {
          "base_uri": "https://localhost:8080/"
        },
        "id": "vNI2o-YL0_-6",
        "outputId": "807e2215-2883-4221-edd2-f9974b39c289"
      },
      "execution_count": null,
      "outputs": [
        {
          "output_type": "stream",
          "name": "stdout",
          "text": [
            "    MPID        Party        Date  \\\n",
            "0  16659  ['kpd/dkp']  1949-09-07   \n",
            "1  15677      ['spd']  1949-09-07   \n",
            "2  16631      ['spd']  1949-09-07   \n",
            "3  16631      ['spd']  1949-09-07   \n",
            "4  16631      ['spd']  1949-09-07   \n",
            "\n",
            "                                              Speech Political Orientation  \n",
            "0                                      Sehr richtig!             communist  \n",
            "1                               Alterspräsident Löbe    social democtratic  \n",
            "2   nicht in der Form und im Sinne von Almosen, s...    social democtratic  \n",
            "3   nicht in der Form und im Sinne von Almosen, s...    social democtratic  \n",
            "4   nicht in der Form und im Sinne von Almosen, s...    social democtratic  \n"
          ]
        }
      ]
    },
    {
      "cell_type": "code",
      "source": [
        "final_df.to_csv('final_speeches_dataset.csv', index=False)"
      ],
      "metadata": {
        "id": "M67dqsI21DUf"
      },
      "execution_count": null,
      "outputs": []
    },
    {
      "cell_type": "code",
      "source": [
        "from google.colab import files\n",
        "files.download('/content/final_speeches_dataset.csv')"
      ],
      "metadata": {
        "colab": {
          "base_uri": "https://localhost:8080/",
          "height": 17
        },
        "id": "ZTw-YTwR2GMs",
        "outputId": "9110977d-ea88-4bd5-c68a-1a4cc2f7b2d5"
      },
      "execution_count": null,
      "outputs": [
        {
          "output_type": "display_data",
          "data": {
            "text/plain": [
              "<IPython.core.display.Javascript object>"
            ],
            "application/javascript": [
              "\n",
              "    async function download(id, filename, size) {\n",
              "      if (!google.colab.kernel.accessAllowed) {\n",
              "        return;\n",
              "      }\n",
              "      const div = document.createElement('div');\n",
              "      const label = document.createElement('label');\n",
              "      label.textContent = `Downloading \"${filename}\": `;\n",
              "      div.appendChild(label);\n",
              "      const progress = document.createElement('progress');\n",
              "      progress.max = size;\n",
              "      div.appendChild(progress);\n",
              "      document.body.appendChild(div);\n",
              "\n",
              "      const buffers = [];\n",
              "      let downloaded = 0;\n",
              "\n",
              "      const channel = await google.colab.kernel.comms.open(id);\n",
              "      // Send a message to notify the kernel that we're ready.\n",
              "      channel.send({})\n",
              "\n",
              "      for await (const message of channel.messages) {\n",
              "        // Send a message to notify the kernel that we're ready.\n",
              "        channel.send({})\n",
              "        if (message.buffers) {\n",
              "          for (const buffer of message.buffers) {\n",
              "            buffers.push(buffer);\n",
              "            downloaded += buffer.byteLength;\n",
              "            progress.value = downloaded;\n",
              "          }\n",
              "        }\n",
              "      }\n",
              "      const blob = new Blob(buffers, {type: 'application/binary'});\n",
              "      const a = document.createElement('a');\n",
              "      a.href = window.URL.createObjectURL(blob);\n",
              "      a.download = filename;\n",
              "      div.appendChild(a);\n",
              "      a.click();\n",
              "      div.remove();\n",
              "    }\n",
              "  "
            ]
          },
          "metadata": {}
        },
        {
          "output_type": "display_data",
          "data": {
            "text/plain": [
              "<IPython.core.display.Javascript object>"
            ],
            "application/javascript": [
              "download(\"download_2346c281-0cd3-4b27-9da8-29756065fdcd\", \"final_speeches_dataset.csv\", 1356198110)"
            ]
          },
          "metadata": {}
        }
      ]
    },
    {
      "cell_type": "code",
      "source": [],
      "metadata": {
        "id": "M-zlL_jEFaK6"
      },
      "execution_count": null,
      "outputs": []
    }
  ]
}